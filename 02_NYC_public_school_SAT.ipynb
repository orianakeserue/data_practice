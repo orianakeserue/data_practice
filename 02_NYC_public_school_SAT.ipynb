{
 "cells": [
  {
   "cell_type": "markdown",
   "id": "7a8bebae-a782-4cf7-9486-b0d5fb412560",
   "metadata": {
    "panel-layout": {
     "height": 529.375,
     "visible": true,
     "width": 100
    }
   },
   "source": [
    "Project from Datacamp.\n",
    "\n",
    "Here is the code I used in Datacamp platform (returned as correct). Here are the instructions: \n",
    "\n",
    "1. Which NYC schools have the best math results?\n",
    "    - The best math results are at least 80% of the *maximum possible score of 800* for math.\n",
    "    - Save your results in a pandas DataFrame called best_math_schools, including \"school_name\" and \"average_math\" columns, sorted by \"average_math\" in descending order.\n",
    "  \n",
    "2. What are the top 10 performing schools based on the combined SAT scores?\n",
    "    - Save your results as a pandas DataFrame called top_10_schools containing the \"school_name\" and a new column named \"total_SAT\", with results ordered by \"total_SAT\" in descending order (\"total_SAT\" being the sum of math, reading, and writing scores).\n",
    "\n",
    "3. Which single borough has the largest standard deviation in the combined SAT score?\n",
    "- Save your results as a pandas DataFrame called largest_std_dev.\n",
    "- The DataFrame should contain one row, with:\n",
    "    - \"borough\" - the name of the NYC borough with the largest standard deviation of \"total_SAT\".\n",
    "    - \"num_schools\" - the number of schools in the borough.\n",
    "    - \"average_SAT\" - the mean of \"total_SAT\".\n",
    "    - \"std_SAT\" - the standard deviation of \"total_SAT\".\n",
    "- Round all numeric values to two decimal places."
   ]
  },
  {
   "cell_type": "code",
   "execution_count": 1,
   "id": "c7c655ba-d9cc-4ba7-9ddf-2448c3b32b29",
   "metadata": {},
   "outputs": [
    {
     "data": {
      "text/html": [
       "<div>\n",
       "<style scoped>\n",
       "    .dataframe tbody tr th:only-of-type {\n",
       "        vertical-align: middle;\n",
       "    }\n",
       "\n",
       "    .dataframe tbody tr th {\n",
       "        vertical-align: top;\n",
       "    }\n",
       "\n",
       "    .dataframe thead th {\n",
       "        text-align: right;\n",
       "    }\n",
       "</style>\n",
       "<table border=\"1\" class=\"dataframe\">\n",
       "  <thead>\n",
       "    <tr style=\"text-align: right;\">\n",
       "      <th></th>\n",
       "      <th>school_name</th>\n",
       "      <th>borough</th>\n",
       "      <th>building_code</th>\n",
       "      <th>average_math</th>\n",
       "      <th>average_reading</th>\n",
       "      <th>average_writing</th>\n",
       "      <th>percent_tested</th>\n",
       "    </tr>\n",
       "  </thead>\n",
       "  <tbody>\n",
       "    <tr>\n",
       "      <th>0</th>\n",
       "      <td>New Explorations into Science, Technology and ...</td>\n",
       "      <td>Manhattan</td>\n",
       "      <td>M022</td>\n",
       "      <td>657</td>\n",
       "      <td>601</td>\n",
       "      <td>601</td>\n",
       "      <td>NaN</td>\n",
       "    </tr>\n",
       "    <tr>\n",
       "      <th>1</th>\n",
       "      <td>Essex Street Academy</td>\n",
       "      <td>Manhattan</td>\n",
       "      <td>M445</td>\n",
       "      <td>395</td>\n",
       "      <td>411</td>\n",
       "      <td>387</td>\n",
       "      <td>78.9</td>\n",
       "    </tr>\n",
       "    <tr>\n",
       "      <th>2</th>\n",
       "      <td>Lower Manhattan Arts Academy</td>\n",
       "      <td>Manhattan</td>\n",
       "      <td>M445</td>\n",
       "      <td>418</td>\n",
       "      <td>428</td>\n",
       "      <td>415</td>\n",
       "      <td>65.1</td>\n",
       "    </tr>\n",
       "    <tr>\n",
       "      <th>3</th>\n",
       "      <td>High School for Dual Language and Asian Studies</td>\n",
       "      <td>Manhattan</td>\n",
       "      <td>M445</td>\n",
       "      <td>613</td>\n",
       "      <td>453</td>\n",
       "      <td>463</td>\n",
       "      <td>95.9</td>\n",
       "    </tr>\n",
       "    <tr>\n",
       "      <th>4</th>\n",
       "      <td>Henry Street School for International Studies</td>\n",
       "      <td>Manhattan</td>\n",
       "      <td>M056</td>\n",
       "      <td>410</td>\n",
       "      <td>406</td>\n",
       "      <td>381</td>\n",
       "      <td>59.7</td>\n",
       "    </tr>\n",
       "  </tbody>\n",
       "</table>\n",
       "</div>"
      ],
      "text/plain": [
       "                                         school_name    borough building_code  \\\n",
       "0  New Explorations into Science, Technology and ...  Manhattan          M022   \n",
       "1                               Essex Street Academy  Manhattan          M445   \n",
       "2                       Lower Manhattan Arts Academy  Manhattan          M445   \n",
       "3    High School for Dual Language and Asian Studies  Manhattan          M445   \n",
       "4      Henry Street School for International Studies  Manhattan          M056   \n",
       "\n",
       "   average_math  average_reading  average_writing  percent_tested  \n",
       "0           657              601              601             NaN  \n",
       "1           395              411              387            78.9  \n",
       "2           418              428              415            65.1  \n",
       "3           613              453              463            95.9  \n",
       "4           410              406              381            59.7  "
      ]
     },
     "execution_count": 1,
     "metadata": {},
     "output_type": "execute_result"
    }
   ],
   "source": [
    "# Importing pandas\n",
    "import pandas as pd\n",
    "\n",
    "# Read in the data\n",
    "schools = pd.read_csv(\"/Users/ORIANAGRANDE/Documents/Documents - MacBook Air/Portfolio/Data/02_NYC_public_school_SAT..csv\")\n",
    "\n",
    "# Preview the data\n",
    "schools.head()"
   ]
  },
  {
   "cell_type": "markdown",
   "id": "e47d2e00-5bc4-434c-a052-3602b103371c",
   "metadata": {},
   "source": [
    "1. Which NYC schools have the best math results?\n",
    "   - The best math results are at least 80% of the **maximum possible score of 800** for math.\n",
    "   - Save your results in a **pandas DataFrame called best_math_schools**, including **\"school_name\" and \"average_math\" columns**, **sorted by \"average_math\" in descending** order."
   ]
  },
  {
   "cell_type": "code",
   "execution_count": 2,
   "id": "a5397181-4a08-4d7f-a901-fe81f041cf90",
   "metadata": {},
   "outputs": [
    {
     "data": {
      "text/html": [
       "<div>\n",
       "<style scoped>\n",
       "    .dataframe tbody tr th:only-of-type {\n",
       "        vertical-align: middle;\n",
       "    }\n",
       "\n",
       "    .dataframe tbody tr th {\n",
       "        vertical-align: top;\n",
       "    }\n",
       "\n",
       "    .dataframe thead th {\n",
       "        text-align: right;\n",
       "    }\n",
       "</style>\n",
       "<table border=\"1\" class=\"dataframe\">\n",
       "  <thead>\n",
       "    <tr style=\"text-align: right;\">\n",
       "      <th></th>\n",
       "      <th>school_name</th>\n",
       "      <th>average_math</th>\n",
       "    </tr>\n",
       "  </thead>\n",
       "  <tbody>\n",
       "    <tr>\n",
       "      <th>88</th>\n",
       "      <td>Stuyvesant High School</td>\n",
       "      <td>754</td>\n",
       "    </tr>\n",
       "    <tr>\n",
       "      <th>170</th>\n",
       "      <td>Bronx High School of Science</td>\n",
       "      <td>714</td>\n",
       "    </tr>\n",
       "    <tr>\n",
       "      <th>93</th>\n",
       "      <td>Staten Island Technical High School</td>\n",
       "      <td>711</td>\n",
       "    </tr>\n",
       "    <tr>\n",
       "      <th>365</th>\n",
       "      <td>Queens High School for the Sciences at York Co...</td>\n",
       "      <td>701</td>\n",
       "    </tr>\n",
       "    <tr>\n",
       "      <th>68</th>\n",
       "      <td>High School for Mathematics, Science, and Engi...</td>\n",
       "      <td>683</td>\n",
       "    </tr>\n",
       "  </tbody>\n",
       "</table>\n",
       "</div>"
      ],
      "text/plain": [
       "                                           school_name  average_math\n",
       "88                              Stuyvesant High School           754\n",
       "170                       Bronx High School of Science           714\n",
       "93                 Staten Island Technical High School           711\n",
       "365  Queens High School for the Sciences at York Co...           701\n",
       "68   High School for Mathematics, Science, and Engi...           683"
      ]
     },
     "execution_count": 2,
     "metadata": {},
     "output_type": "execute_result"
    }
   ],
   "source": [
    "# Subsetting \"school_name\" and \"average_math\" columns and sorting by average_math descending order.\n",
    "schools_math_srt = schools[[\"school_name\", \"average_math\"]].sort_values(\"average_math\", ascending = False)\n",
    "best_math_schools = schools_math_srt[schools_math_srt[\"average_math\"] > 800*0.8]\n",
    "best_math_schools.head()"
   ]
  },
  {
   "cell_type": "markdown",
   "id": "40bbcdd3-33a9-479b-ba08-fda255182bda",
   "metadata": {},
   "source": [
    "2. What are the top 10 performing schools based on the combined SAT scores?\n",
    "   - Save your results as a **pandas DataFrame called top_10_schools** containing the **\"school_name\"** and a **new column named \"total_SAT\"**, with **results ordered by \"total_SAT\" in descending** order (\"total_SAT\" being the sum of math, reading, and writing scores)."
   ]
  },
  {
   "cell_type": "code",
   "execution_count": 3,
   "id": "39cb1500-8fc0-4f33-b4d4-2ec712ee04cb",
   "metadata": {},
   "outputs": [
    {
     "name": "stdout",
     "output_type": "stream",
     "text": [
      "                                           school_name  total_SAT\n",
      "88                              Stuyvesant High School       2144\n",
      "170                       Bronx High School of Science       2041\n",
      "93                 Staten Island Technical High School       2041\n",
      "174  High School of American Studies at Lehman College       2013\n",
      "333                        Townsend Harris High School       1981\n",
      "365  Queens High School for the Sciences at York Co...       1947\n",
      "5                       Bard High School Early College       1914\n",
      "280                     Brooklyn Technical High School       1896\n",
      "45                       Eleanor Roosevelt High School       1889\n",
      "68   High School for Mathematics, Science, and Engi...       1889\n"
     ]
    }
   ],
   "source": [
    "# Creating a new column \"total_SAT\"\n",
    "schools[\"total_SAT\"] = schools[\"average_math\"] + schools[\"average_reading\"] + schools[\"average_writing\"]\n",
    "\n",
    "# Subsetting for \"school_name\" and \"total_SAT\" and sorting by \"total_SAT\" descending order\n",
    "top_10_schools_all = schools[[\"school_name\", \"total_SAT\"]].sort_values(\"total_SAT\", ascending = False)\n",
    "\n",
    "# Keeping only the first 10 rows\n",
    "top_10_schools = top_10_schools_all[:10]\n",
    "print(top_10_schools)"
   ]
  },
  {
   "cell_type": "markdown",
   "id": "6663126b-b7fb-4c66-9162-f22b9f418052",
   "metadata": {},
   "source": [
    "3. Which single borough has the largest standard deviation in the combined SAT score?\n",
    "   - Save your results as a **pandas DataFrame called largest_std_dev.**\n",
    "   - The DataFrame should **contain one row**, with:\n",
    "       - \"borough\" - the name of the NYC borough with the largest standard deviation of \"total_SAT\".\n",
    "       - \"num_schools\" - the number of schools in the borough.\n",
    "       - \"average_SAT\" - the mean of \"total_SAT\".\n",
    "       - \"std_SAT\" - the standard deviation of \"total_SAT\".\n",
    "   - **Round** all numeric values to **two decimal** places."
   ]
  },
  {
   "cell_type": "code",
   "execution_count": 5,
   "id": "67d34d28-3663-4bcc-a976-499e3e523cfc",
   "metadata": {},
   "outputs": [
    {
     "name": "stdout",
     "output_type": "stream",
     "text": [
      "     borough  num_schools  average_SAT  std_SAT\n",
      "2  Manhattan           89      1340.13   230.29\n"
     ]
    }
   ],
   "source": [
    "# Grouping data by borough and creating the new columns as aggregating functions\n",
    "schools_grouped_by_borough = schools.groupby(\"borough\")[\"total_SAT\"].agg(\n",
    "    num_schools = \"count\",\n",
    "    average_SAT = \"mean\",\n",
    "    std_SAT = \"std\"\n",
    ").reset_index()\n",
    "\n",
    "# Sorting the dataframe to have the largest std_SAT on top (descending order)\n",
    "schools_grouped_by_borough = schools_grouped_by_borough.sort_values(\"std_SAT\", ascending = False)\n",
    "\n",
    "# Round all values to two decimal (.round() ?)\n",
    "schools_grouped_by_borough = schools_grouped_by_borough.round(2)\n",
    "\n",
    "\n",
    "# Keep the first row\n",
    "largest_std_dev = schools_grouped_by_borough[:1]\n",
    "print(largest_std_dev)"
   ]
  }
 ],
 "metadata": {
  "kernelspec": {
   "display_name": "Python [conda env:base] *",
   "language": "python",
   "name": "conda-base-py"
  },
  "language_info": {
   "codemirror_mode": {
    "name": "ipython",
    "version": 3
   },
   "file_extension": ".py",
   "mimetype": "text/x-python",
   "name": "python",
   "nbconvert_exporter": "python",
   "pygments_lexer": "ipython3",
   "version": "3.13.5"
  },
  "panel-cell-order": [
   "7a8bebae-a782-4cf7-9486-b0d5fb412560"
  ]
 },
 "nbformat": 4,
 "nbformat_minor": 5
}
