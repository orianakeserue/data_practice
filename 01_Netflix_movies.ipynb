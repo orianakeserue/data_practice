{
 "cells": [
  {
   "cell_type": "markdown",
   "id": "9a1c9382-8a87-4285-a6a7-4c6c226033f9",
   "metadata": {},
   "source": [
    "Project from Datacamp.\n",
    "\n",
    "Here is the code I used in Datacamp platform (returned as correct).\n",
    "Here are the instructions:\n",
    "Perform exploratory data analysis on the netflix_data.csv data to understand more about movies from the 1990s decade.\n",
    "\n",
    "What was the most frequent movie duration in the 1990s? Save an approximate answer as an integer called duration (use 1990 as the decade's start year).\n",
    "\n",
    "A movie is considered short if it is less than 90 minutes. Count the number of short action movies released in the 1990s and save this integer as short_movie_count."
   ]
  },
  {
   "cell_type": "code",
   "execution_count": 10,
   "id": "bdabe0ff-c96c-4456-b11c-559a75827a89",
   "metadata": {},
   "outputs": [],
   "source": [
    "# Importing pandas and matplotlib\n",
    "import numpy as np\n",
    "import pandas as pd\n",
    "import matplotlib.pyplot as plt\n",
    "\n",
    "# Read in the Netflix CSV as a DataFrame\n",
    "netflix_df = pd.read_csv(\"'/Users/ORIANAGRANDE/Documents/Documents - MacBook Air/Portfolio/Data/netflix_data.csv'\")"
   ]
  },
  {
   "cell_type": "code",
   "execution_count": 11,
   "id": "493b19c3-d996-41ec-9a26-2fff77c6a3a1",
   "metadata": {},
   "outputs": [
    {
     "data": {
      "image/png": "[encoded data removed]",
      "text/plain": [
       "<Figure size 640x480 with 1 Axes>"
      ]
     },
     "metadata": {},
     "output_type": "display_data"
    }
   ],
   "source": [
    "# Most frequent movie duration in the 1990s\n",
    "## Creating dataset for 90s movies only\n",
    "netflix_movies = netflix_df[netflix_df[\"type\"] == \"Movie\"]\n",
    "netflix_90 = netflix_movies[np.logical_and(netflix_movies[\"release_year\"] >= 1990, netflix_movies[\"release_year\"] < 2000)]\n",
    "## most frequent answer in duration column\n",
    "plt.clf()\n",
    "duration_plot = plt.hist(netflix_90[\"duration\"], bins = 15)\n",
    "plt.show()\n",
    "duration = 105"
   ]
  },
  {
   "cell_type": "code",
   "execution_count": 21,
   "id": "f69ac508-72fb-43fd-9da6-01d36caa880e",
   "metadata": {},
   "outputs": [
    {
     "name": "stdout",
     "output_type": "stream",
     "text": [
      "7\n"
     ]
    }
   ],
   "source": [
    "# Number of short action movies\n",
    "netflix_90_actionshort = netflix_90[np.logical_and(netflix_90[\"duration\"] < 90, netflix_90[\"genre\"] == \"Action\")]\n",
    "#print(netflix_90_actionshort)\n",
    "short_movie_count = 7 # to get this number, I actually just got it from the number of rows that were returned from the code line above.\n",
    "# Datacamp wanted to do a for loop to get it and actually count it.\n",
    "\n",
    "# For loop method with counting\n",
    "count = 0\n",
    "for label, row in netflix_90.iterrows():\n",
    "    if row[\"duration\"] < 90 and row[\"genre\"] == \"Action\":\n",
    "        count += 1\n",
    "    else:\n",
    "        count = count\n",
    "    \n",
    "print(count)"
   ]
  },
  {
   "cell_type": "code",
   "execution_count": null,
   "id": "b46bfc82-6735-4e73-b5a1-f27569181daf",
   "metadata": {},
   "outputs": [],
   "source": []
  }
 ],
 "metadata": {
  "kernelspec": {
   "display_name": "Python [conda env:base] *",
   "language": "python",
   "name": "conda-base-py"
  },
  "language_info": {
   "codemirror_mode": {
    "name": "ipython",
    "version": 3
   },
   "file_extension": ".py",
   "mimetype": "text/x-python",
   "name": "python",
   "nbconvert_exporter": "python",
   "pygments_lexer": "ipython3",
   "version": "3.13.5"
  }
 },
 "nbformat": 4,
 "nbformat_minor": 5
}
